{
 "cells": [
  {
   "cell_type": "code",
   "execution_count": 3,
   "id": "fc6582a4-4f69-43d6-8243-9fe1ad4c3c73",
   "metadata": {},
   "outputs": [],
   "source": [
    "import pandas as pd\n",
    "\n",
    "# Charger le gros fichier CSV localement\n",
    "df = pd.read_csv(\"5_LFB_fusion.csv\", low_memory = False)\n",
    "\n",
    "# Prendre un échantillon aléatoire de 5 000 lignes (ou moins)\n",
    "df_sample = df.sample(n=5000, random_state=42)\n",
    "\n",
    "# Sauvegarder dans un nouveau fichier CSV plus léger\n",
    "df_sample.to_csv(\"5_LFB_fusion_sample.csv\", index=False)"
   ]
  },
  {
   "cell_type": "code",
   "execution_count": null,
   "id": "af788183-dfe6-4275-8d60-2992e6acfa22",
   "metadata": {},
   "outputs": [],
   "source": []
  }
 ],
 "metadata": {
  "kernelspec": {
   "display_name": "Python 3 (ipykernel)",
   "language": "python",
   "name": "python3"
  },
  "language_info": {
   "codemirror_mode": {
    "name": "ipython",
    "version": 3
   },
   "file_extension": ".py",
   "mimetype": "text/x-python",
   "name": "python",
   "nbconvert_exporter": "python",
   "pygments_lexer": "ipython3",
   "version": "3.12.7"
  }
 },
 "nbformat": 4,
 "nbformat_minor": 5
}
